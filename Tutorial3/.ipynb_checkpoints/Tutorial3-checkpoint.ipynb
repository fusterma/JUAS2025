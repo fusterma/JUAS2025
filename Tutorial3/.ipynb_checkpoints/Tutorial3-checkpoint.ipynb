{
 "cells": [
  {
   "cell_type": "markdown",
   "id": "9cd1544f-0e66-47bd-a6c4-4bd31bcd51d1",
   "metadata": {},
   "source": [
    "# **The Python and MAD-X basics*"
   ]
  },
  {
   "cell_type": "code",
   "execution_count": 2,
   "id": "2b233b8a-03b1-4cfb-9aec-d5f9a1ae98f1",
   "metadata": {
    "tags": []
   },
   "outputs": [
    {
     "data": {
      "text/html": [
       "<a href='../MainCommandsList.md' target='_blank'>../MainCommandsList.md</a><br>"
      ],
      "text/plain": [
       "/Users/nuria/Desktop/JUAS2025_LocalNuria/MainCommandsList.md"
      ]
     },
     "execution_count": 2,
     "metadata": {},
     "output_type": "execute_result"
    }
   ],
   "source": [
    "from IPython.display import FileLink\n",
    "\n",
    "FileLink('../MainCommandsList.md')"
   ]
  },
  {
   "cell_type": "markdown",
   "id": "1f2f5a12-ecd7-4aa7-bc5a-723ee885ff96",
   "metadata": {},
   "source": [
    "# **Tutorial 3: Natural chromaticity and correction**\n",
    "<div style=\"font-size: 16px;\">\n",
    "\n",
    "The main objectives of this tutorial are:\n",
    "\n",
    "- to analyze the effect of the natural chromaticity of a FODO cell on the particle beam dynamics,\n",
    "    \n",
    "- to assess the impact of a chromaticity correction scheme, utilizing two sextupoles, also on the particle beam dynamics through particle tracking studies.\"\n",
    "    \n",
    "**Two lattices will be used:**\n",
    "    \n",
    "- **Tutorial3-1.madx**: thin lens version of the lattice designed in Tutorial 2 for a 7 TeV total energy proton beam. \n",
    "\n",
    "    <div style=\"flex: 1;\">\n",
    "    <img src=\"../Figures/Tutorial3_FODO.png\" style=\"max-width: 50%;\">\n",
    "    </div>\n",
    "    \n",
    "- **Tutorial3-2.madx**: thin lens version of a new lattice in which sextupoles have been added and matched for chromaticity correction.\n",
    "\n",
    "<div style=\"display: flex; align-items: center;\">\n",
    "<div style=\"flex: 1; padding: 5px; margin-left: -0px;\">\n",
    "</div>\n",
    "\n",
    "<div style=\"flex: 1;\">\n",
    "    <img src=\"../Figures/Tutorial5_chroma_correction.jpg\" style=\"max-width: 90%;\">\n",
    "</div>\n",
    "    \n",
    "<p align=\"center\">\n",
    "<img src=\"../Figures/Tutorial5_FODO.png\" width=\"90%\"/>\n",
    "</p>\n"
   ]
  },
  {
   "cell_type": "markdown",
   "id": "ed017ce0-e897-45fd-8ee1-6fe5ead24e32",
   "metadata": {},
   "source": [
    "<div style=\"font-size: 16px;\">\n",
    "<div style=\"background-color: #ffff00; padding: 10px; border-radius: 5px;font-weight: bold;\">\n",
    "    Note that the thin lens lattice is mandatory in order to use the track module of MAD-X. The makethin command should be used for this purpose. \n",
    "</div>"
   ]
  },
  {
   "cell_type": "markdown",
   "id": "3fc9006f-8ea4-41a9-8d4e-b615920fd171",
   "metadata": {},
   "source": [
    "<div style=\"font-size: 16px;\">\n",
    "<div style=\"background-color: #ffff00; padding: 10px; border-radius: 5px;font-weight: bold;\">\n",
    "  Additionally, after executing the makethin command, it will be necessary to rematch the lattice to ensure that the horizontal and vertical tunes of the FODO cell remain at 0.25, the designated working point.\n",
    "</div>"
   ]
  },
  {
   "cell_type": "markdown",
   "id": "d9689614-1b28-426c-9d21-82e1ae874c7b",
   "metadata": {},
   "source": [
    "<div style=\"font-size: 16px;\">\n",
    "    \n",
    "# **Questions:**\n",
    "    \n",
    "**As starting point we use the lattice of tutorial3-1.madx.**    \n",
    "    \n",
    "1. Track two particles: one with initial coordinates x, y, px, py = (1 mm, 1 mm, 0, 0) and another with initial coordinates x, y, px, py = (100 mm, 100 mm, 0, 0) for 100 turns. Plot the horizontal and vertical phase spaces, x-px and y-py, respectively. How do the particles move in phase space turn after turn? Do you observe the tunes? Is there any noticeable difference between the two particles? It may be helpful to examine only the first 4 turns for a clearer picture.\n",
    "\n",
    "\t\ttrack, dump, file = name, deltap = ??;\n",
    "\t\tstart, x = ??, px = ?? , y = ??, py = ??;\n",
    "\t\tstart, x = ??, px = ?? , y = ??, py = ??;\n",
    "\t\trun, turns = 100;\n",
    "        endtrack;\n",
    "        \n",
    "**Note**: You can access the tracking data table, for example, as follows:\n",
    "\n",
    "        particle1=madx.table['track.obs0001.p0001'].dframe()\n",
    "        particle2=madx.table['track.obs0001.p0002'].dframe()\n",
    "    \n",
    "2. Now, repeat the tracking exercise, but for two off-momentum particles by adding a $\\Delta p/p = 10^{-2}$ to the initial particle conditions. How does the phase space look now? Is the tune still the same?\n",
    "    \n",
    "**Now we move to the tutorial3-2.madx lattice.** \n",
    "    \n",
    "3. Use the second lattice and track the same two particles: one with initial coordinates x, y, px, py = (1 mm, 1 mm, 0, 0) and the other with x, y, px, py = (100 mm, 100 mm, 0, 0), both having $\\Delta p/p = 0.01$, for 100 turns. Plot the horizontal and vertical phase spaces, x-px and y-py, respectively. Did you manage to recover the original tune for the off-momentum particle from question 1? Do you observe the tunes? What is happening?\n",
    "\n",
    "4. Finally, move the tunes to (0.23, 0.23) and repeat the tracking exercise. Are the particles stable?"
   ]
  },
  {
   "cell_type": "markdown",
   "id": "b45d4567-2869-4887-ad0e-d600c4904470",
   "metadata": {},
   "source": [
    "# Python libraries "
   ]
  },
  {
   "cell_type": "code",
   "execution_count": 3,
   "id": "bd697799-f96f-432c-8a64-b1ab79d1f10f",
   "metadata": {
    "tags": []
   },
   "outputs": [],
   "source": [
    "#########################################\n",
    "# Python libraries                      #\n",
    "#########################################\n",
    "from matplotlib import pyplot as plt\n",
    "import numpy as np\n",
    "import pandas as pd\n",
    "\n",
    "#########################################\n",
    "# Cpymad library                        #\n",
    "#########################################\n",
    "from cpymad.madx import Madx \n",
    "\n",
    "#########################################\n",
    "# Additional library for plotting       #\n",
    "#########################################\n",
    "import sys\n",
    "sys.path.append('../')\n",
    "import lib_JUAS2025 as lib\n",
    "\n",
    "import matplotlib.animation\n",
    "from IPython.display import HTML"
   ]
  },
  {
   "cell_type": "markdown",
   "id": "bdde6b6d-0135-4170-b545-229fed4a3f0d",
   "metadata": {},
   "source": [
    "#### More on the cpymad library: http://hibtc.github.io/cpymad/getting-started"
   ]
  },
  {
   "cell_type": "markdown",
   "id": "5e65fd4f-bf41-46b5-a206-d386e66938e2",
   "metadata": {},
   "source": [
    "#### Matplotlib setup:"
   ]
  },
  {
   "cell_type": "code",
   "execution_count": 4,
   "id": "80064418-92b9-4ec5-84b3-c44da879e4aa",
   "metadata": {
    "tags": []
   },
   "outputs": [],
   "source": [
    "# some setup for the plotting\n",
    "params = {\n",
    "    \"legend.fontsize\": \"x-large\",\n",
    "    \"figure.figsize\": (15, 5),\n",
    "    \"axes.labelsize\": \"x-large\",\n",
    "    \"axes.titlesize\": \"x-large\",\n",
    "    \"xtick.labelsize\": \"x-large\",\n",
    "    \"ytick.labelsize\": \"x-large\",\n",
    "}\n",
    "plt.rcParams.update(params)"
   ]
  },
  {
   "cell_type": "markdown",
   "id": "cb39ad6e-4d3b-4788-8cc3-c7e131d6fc79",
   "metadata": {},
   "source": [
    "#### Pandas setup:"
   ]
  },
  {
   "cell_type": "code",
   "execution_count": 5,
   "id": "88739c2e-b4d6-4bc3-8d68-7ec766279667",
   "metadata": {
    "tags": []
   },
   "outputs": [],
   "source": [
    "# Set display options\n",
    "pd.set_option('display.max_rows', None)  # Show all rows\n",
    "pd.set_option('display.max_columns', None)  # Show all columns\n",
    "pd.set_option('display.width', 1000)  # Set width of the display"
   ]
  },
  {
   "cell_type": "markdown",
   "id": "ff835d2a-d35b-46cb-b5ff-17bddd825511",
   "metadata": {},
   "source": [
    "# Launching MAD-X"
   ]
  },
  {
   "cell_type": "code",
   "execution_count": 6,
   "id": "96967b3b-ab86-4214-a275-cda37a0c8854",
   "metadata": {
    "tags": []
   },
   "outputs": [
    {
     "name": "stdout",
     "output_type": "stream",
     "text": [
      "\n",
      "  ++++++++++++++++++++++++++++++++++++++++++++\n",
      "  +     MAD-X 5.09.00  (64 bit, Darwin)      +\n",
      "  + Support: mad@cern.ch, http://cern.ch/mad +\n",
      "  + Release   date: 2023.05.05               +\n",
      "  + Execution date: 2025.01.13 13:43:04      +\n",
      "  ++++++++++++++++++++++++++++++++++++++++++++\n"
     ]
    }
   ],
   "source": [
    "# madx = Madx(stdout=True)\n",
    "madx = Madx()"
   ]
  },
  {
   "cell_type": "markdown",
   "id": "aa53062a-5382-416d-899f-eca15cb10b64",
   "metadata": {},
   "source": [
    "# Question 1"
   ]
  },
  {
   "cell_type": "markdown",
   "id": "ac7a2ce7-3a86-4023-8c83-7bb7830ac801",
   "metadata": {},
   "source": [
    "#### Track two particles: one with initial coordinates x, y, px, py = (1 mm, 1 mm, 0, 0) and another with initial coordinates x, y, px, py = (100 mm, 100 mm, 0, 0) for 100 turns. Plot the horizontal and vertical phase spaces, x-px and y-py, respectively. How do the particles move in phase space turn after turn? Do you observe the tunes? Is there any noticeable difference between the two particles? It may be helpful to examine only the first 4 turns for a clearer picture.\n",
    "\n",
    "\t\ttrack, dump, file = name, deltap = ??;\n",
    "\t\tstart, x = ??, px = ?? , y = ??, py = ??;\n",
    "\t\tstart, x = ??, px = ?? , y = ??, py = ??;\n",
    "\t\trun, turns = 100;\n",
    "        endtrack;\n",
    "        \n",
    "#### **Note**: you can access the tracking data table, for example, as follows:\n",
    "\n",
    "        particle1=madx.table['track.obs0001.p0001'].dframe()\n",
    "        particle2=madx.table['track.obs0001.p0002'].dframe()"
   ]
  },
  {
   "cell_type": "markdown",
   "id": "f8e00d23-3a1b-44b8-9763-d95feb930a08",
   "metadata": {},
   "source": [
    "#### First, we run the Tutorial3-1.madx file"
   ]
  },
  {
   "cell_type": "code",
   "execution_count": 10,
   "id": "734f4cba-8afd-4f26-9b27-c71dbf9ceeda",
   "metadata": {
    "tags": []
   },
   "outputs": [],
   "source": [
    "#madx.call('Tutorial3-1.madx')"
   ]
  },
  {
   "cell_type": "code",
   "execution_count": 11,
   "id": "9f5b3ef9-cdcd-4dc3-b0ef-09a9af1c8373",
   "metadata": {
    "tags": []
   },
   "outputs": [],
   "source": [
    "#print(list(madx.table))"
   ]
  },
  {
   "cell_type": "code",
   "execution_count": 12,
   "id": "ece8da31-de7f-451c-ae50-4c441bb38eec",
   "metadata": {
    "tags": []
   },
   "outputs": [],
   "source": [
    "#DFTwiss=madx.table.aftermatching.dframe()\n",
    "#DFSumm=madx.table.summ.dframe()"
   ]
  },
  {
   "cell_type": "code",
   "execution_count": 13,
   "id": "3518d92d-8c71-4fdb-add8-d873311c75a0",
   "metadata": {
    "tags": []
   },
   "outputs": [],
   "source": [
    "#lib.plot_layout(DFTwiss)"
   ]
  },
  {
   "cell_type": "code",
   "execution_count": null,
   "id": "14ddced3-ebb4-4a2c-bb03-475238cace60",
   "metadata": {},
   "outputs": [],
   "source": []
  },
  {
   "cell_type": "code",
   "execution_count": 17,
   "id": "386e1559",
   "metadata": {
    "tags": []
   },
   "outputs": [],
   "source": [
    "myString='''\n",
    "\n",
    "!*********************************************************************\n",
    "! TRACKING\n",
    "!*********************************************************************\n",
    "\n",
    "track, dump, deltap = ??;\n",
    "start, x = ??, px = ?? , y = ??, py = ??;\n",
    "start, x = ??, px = ?? , y = ??, py = ??;\n",
    "run, turns = 100;\n",
    "endtrack;\n",
    "\n",
    "'''"
   ]
  },
  {
   "cell_type": "code",
   "execution_count": null,
   "id": "98cf80df-54e6-4a77-822a-6b91a521930b",
   "metadata": {},
   "outputs": [],
   "source": [
    "#madx.input(myString);"
   ]
  },
  {
   "cell_type": "code",
   "execution_count": 24,
   "id": "3d7558ff-37c6-4abc-b32b-9ed42b960abe",
   "metadata": {
    "tags": []
   },
   "outputs": [],
   "source": [
    "#particle1=madx.table['track.obs0001.p0001'].dframe()\n",
    "#particle2=madx.table['track.obs0001.p0002'].dframe()"
   ]
  },
  {
   "cell_type": "code",
   "execution_count": 25,
   "id": "7db2af09",
   "metadata": {
    "tags": []
   },
   "outputs": [],
   "source": [
    "#plt.rcParams['figure.dpi'] = 100\n",
    "#plt.plot(particle1['x'],particle1['px'],'ob',label='X-phase space')\n",
    "#plt.plot(particle1['y'],particle1['py'],'or',label='Y-phase space')\n",
    "#plt.xlabel('x,y [m]')\n",
    "#plt.ylabel('px,py')\n",
    "#plt.legend(loc='best')"
   ]
  },
  {
   "cell_type": "code",
   "execution_count": null,
   "id": "8f18e328-84d4-452b-8fd2-2532c9dbc33e",
   "metadata": {},
   "outputs": [],
   "source": []
  },
  {
   "cell_type": "code",
   "execution_count": null,
   "id": "3fa77129-291c-4ec7-9532-a86566288dec",
   "metadata": {},
   "outputs": [],
   "source": []
  },
  {
   "cell_type": "markdown",
   "id": "ac800553-76d6-4060-ae2c-0cfdb40fa849",
   "metadata": {},
   "source": [
    "# Question 2"
   ]
  },
  {
   "cell_type": "markdown",
   "id": "75134021",
   "metadata": {},
   "source": [
    "#### **Now, repeat the tracking exercise, but for two off-momentum particles by adding a $\\Delta p/p = 10^{-2}$ to the initial particle conditions. How does the phase space look now? Is the tune still the same?**"
   ]
  },
  {
   "cell_type": "code",
   "execution_count": null,
   "id": "56658a28",
   "metadata": {
    "tags": []
   },
   "outputs": [],
   "source": []
  },
  {
   "cell_type": "code",
   "execution_count": null,
   "id": "0627ae1b-a1a3-4af0-87d7-0369da4251f9",
   "metadata": {},
   "outputs": [],
   "source": []
  },
  {
   "cell_type": "markdown",
   "id": "ea9a7b78-8d45-4c6d-9c0f-44952859cf07",
   "metadata": {},
   "source": [
    "# Question 3"
   ]
  },
  {
   "cell_type": "markdown",
   "id": "81eaa69a-01c4-4d80-87fb-66f64f57decc",
   "metadata": {},
   "source": [
    "#### **Use the second lattice and track the same two particles: one with initial coordinates x, y, px, py = (1 mm, 1 mm, 0, 0) and the other with x, y, px, py = (100 mm, 100 mm, 0, 0), both having $\\Delta p/p = 0.01$, for 100 turns. Plot the horizontal and vertical phase spaces, x-px and y-py, respectively. Did you manage to recover the original tune for the off-momentum particle from question 1? Do you observe the tunes? What is happening?**"
   ]
  },
  {
   "cell_type": "code",
   "execution_count": 18,
   "id": "91ab5ebf-e0af-4d73-85c0-93b03c32ca92",
   "metadata": {
    "tags": []
   },
   "outputs": [],
   "source": [
    "#madx=Madx()\n",
    "#madx.call(\"Tutorial3-2.madx\")"
   ]
  },
  {
   "cell_type": "code",
   "execution_count": 19,
   "id": "80f7ece5-f898-4509-b3b8-99c8da466623",
   "metadata": {
    "tags": []
   },
   "outputs": [],
   "source": [
    "#print(list(madx.table))"
   ]
  },
  {
   "cell_type": "code",
   "execution_count": 20,
   "id": "1056ce0c-b51a-4261-bfd8-a32783be2dd3",
   "metadata": {
    "tags": []
   },
   "outputs": [],
   "source": [
    "#thinZeroChromaDFTable=madx.table['aftersextupolesmatching'].dframe()\n",
    "#lib.plot_layout(thinZeroChromaDFTable)"
   ]
  },
  {
   "cell_type": "code",
   "execution_count": null,
   "id": "6ad861fe-7b61-4bc3-bebb-73d13fb73ff3",
   "metadata": {
    "tags": []
   },
   "outputs": [],
   "source": []
  },
  {
   "cell_type": "code",
   "execution_count": null,
   "id": "9b001c1f-c38f-4ab9-8115-f718c1f4b387",
   "metadata": {},
   "outputs": [],
   "source": []
  },
  {
   "cell_type": "code",
   "execution_count": null,
   "id": "60354ee9-b7b8-4a8d-b460-18eadc4835fa",
   "metadata": {},
   "outputs": [],
   "source": []
  },
  {
   "cell_type": "markdown",
   "id": "579a9fca-b292-4077-a842-68a1e24a8145",
   "metadata": {},
   "source": [
    "# Question 4"
   ]
  },
  {
   "cell_type": "markdown",
   "id": "0bb16199-0f95-403b-b4ff-419ff3ef283c",
   "metadata": {},
   "source": [
    "#### **Finally, move the tunes to (0.23, 0.23) and repeat the tracking exercise. Are the particles stable?**"
   ]
  },
  {
   "cell_type": "markdown",
   "id": "805a0357-5813-4591-802c-2ace12eccf9c",
   "metadata": {},
   "source": [
    "#### Firts we move the tune of the FODO to 0.23"
   ]
  },
  {
   "cell_type": "code",
   "execution_count": 21,
   "id": "2b20fb53-716c-4330-a20d-3dd0a5803eb8",
   "metadata": {
    "tags": []
   },
   "outputs": [],
   "source": [
    "myString='''\n",
    "//*************************************************//\n",
    "!   MATCHING OF THE TUNES\n",
    "//*************************************************//\n",
    "\n",
    "match, sequence=myCell;\n",
    "global, Q1=??;\n",
    "global, Q2=??;\n",
    "vary,name=??,step=0.0001;\n",
    "vary,name=??,step=0.0001;\n",
    "LMDIF, calls = 1000, tolerance=1E-12;\n",
    "endmatch;\n",
    "\n",
    "'''"
   ]
  },
  {
   "cell_type": "code",
   "execution_count": null,
   "id": "b17781e5-b231-4a45-8bff-34ff9782606d",
   "metadata": {},
   "outputs": [],
   "source": [
    "#madx.input(myString);"
   ]
  },
  {
   "cell_type": "markdown",
   "id": "14c4838a-71df-4b33-9e4f-390497e90a77",
   "metadata": {},
   "source": [
    "#### Then, we adjust the sextupoles' to correct the chromaticity"
   ]
  },
  {
   "cell_type": "code",
   "execution_count": 22,
   "id": "a2c28a19-5f74-41bd-8669-bb8c6266ace5",
   "metadata": {
    "tags": []
   },
   "outputs": [],
   "source": [
    "myString='''\n",
    "\n",
    "!*************************************************\n",
    "!   MATCHING OF THE CHROMATICITY\n",
    "!*************************************************\n",
    "\n",
    "match, sequence=myCell;\n",
    "global, dq1=0.0; \n",
    "global, dq2=0.0;\n",
    "vary,name=K2F,step=0.0001;\n",
    "vary,name=K2D,step=0.0001;\n",
    "LMDIF, calls = 100, tolerance=1E-12;\n",
    "endmatch;\n",
    "\n",
    "'''"
   ]
  },
  {
   "cell_type": "code",
   "execution_count": null,
   "id": "e2ea0e13-1f2f-4862-8f96-9bc11af10c78",
   "metadata": {},
   "outputs": [],
   "source": [
    "#madx.input(myString);"
   ]
  },
  {
   "cell_type": "markdown",
   "id": "ab074b1e-fbce-496b-97ec-5bc75dbf3ab2",
   "metadata": {},
   "source": [
    "#### And we are ready to repeat the tracking of the two particles"
   ]
  },
  {
   "cell_type": "code",
   "execution_count": 23,
   "id": "24b98940-971c-46b3-a07f-21321b1a307a",
   "metadata": {
    "tags": []
   },
   "outputs": [],
   "source": [
    "myString='''\n",
    "!*************************************************\n",
    "!   TRACKING\n",
    "!*************************************************\n",
    "\n",
    "track,dump, DELTAP=??;\n",
    "start, x= ??, px=0, y= ??, py=0;\n",
    "start, x= ??, px=0, y= ??, py=0;\n",
    "run,turns=100;\n",
    "endtrack;\n",
    "\n",
    "'''"
   ]
  },
  {
   "cell_type": "code",
   "execution_count": null,
   "id": "90666554-60f4-48b8-8b50-fe0b82873f03",
   "metadata": {},
   "outputs": [],
   "source": [
    "#madx.input(myString);"
   ]
  },
  {
   "cell_type": "code",
   "execution_count": null,
   "id": "e167e3fa-872f-409c-a07f-407ba5162309",
   "metadata": {},
   "outputs": [],
   "source": []
  },
  {
   "cell_type": "code",
   "execution_count": null,
   "id": "96700a8d-331d-4083-9fc0-b2bd7a21d96f",
   "metadata": {},
   "outputs": [],
   "source": []
  }
 ],
 "metadata": {
  "kernelspec": {
   "display_name": "Python 3 (ipykernel)",
   "language": "python",
   "name": "python3"
  },
  "language_info": {
   "codemirror_mode": {
    "name": "ipython",
    "version": 3
   },
   "file_extension": ".py",
   "mimetype": "text/x-python",
   "name": "python",
   "nbconvert_exporter": "python",
   "pygments_lexer": "ipython3",
   "version": "3.11.5"
  }
 },
 "nbformat": 4,
 "nbformat_minor": 5
}
