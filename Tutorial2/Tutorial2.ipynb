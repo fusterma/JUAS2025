{
 "cells": [
  {
   "cell_type": "markdown",
   "id": "d7f1e89a-77c4-4e74-89f9-bb62c73b9b87",
   "metadata": {},
   "source": [
    "# **The Python and MAD-X basics**"
   ]
  },
  {
   "cell_type": "code",
   "execution_count": 1,
   "id": "b9219353-efe4-4fca-b9c4-ee805cc2b2f3",
   "metadata": {
    "tags": []
   },
   "outputs": [
    {
     "data": {
      "text/html": [
       "<a href='../MainCommandsList.md' target='_blank'>../MainCommandsList.md</a><br>"
      ],
      "text/plain": [
       "/Users/nuria/Desktop/JUAS2025/MainCommandsList.md"
      ]
     },
     "execution_count": 1,
     "metadata": {},
     "output_type": "execute_result"
    }
   ],
   "source": [
    "from IPython.display import FileLink\n",
    "\n",
    "FileLink('../MainCommandsList.md')"
   ]
  },
  {
   "cell_type": "markdown",
   "id": "02e53595-4279-44d1-9b47-f90fe51e9fb2",
   "metadata": {
    "tags": []
   },
   "source": [
    "# **Tutorial 2: Building a circular machine**\n",
    "<div style=\"font-size: 16px;\">\n",
    "The main goals of this tutorial are:\n",
    "    \n",
    "- to install dipole magnets in the FODO cell designed in Tutorial 1 to build a circular machine,\n",
    "\n",
    "- study the impact of the dipoles into the linear optics functions, \n",
    "\n",
    "- use the MAD-X matching module to define the required strength of the quadrupole for getting a desired tune of the machine, which is a crucial parameter in the design of a circular machine for getting the desired beam quality and stability. \n",
    "\n",
    "<p>\n",
    "<div style=\"display: flex; align-items: center;\">\n",
    "\n",
    "<div style=\"flex: 1; padding: 5px; margin-left: -0px;\">\n",
    "    \n",
    "**Added specifications:**<p>\n",
    "- 4 sector dipoles of 15 m long, <p>\n",
    "- assuming a drift space between the magnets as illustrated.<p>\n",
    " \n",
    "</div>\n",
    "\n",
    "<div style=\"flex: 1;\">\n",
    "    <img src=\"../Figures/Tutorial3_FODO.png\" style=\"max-width: 90%;\">\n",
    "</div>"
   ]
  },
  {
   "cell_type": "markdown",
   "id": "431621e4-fba0-432b-a9af-b36fbd96ff61",
   "metadata": {},
   "source": [
    "<div style=\"font-size: 16px;\">\n",
    "    \n",
    "# **Questions:**\n",
    "    \n",
    "1. Install the dipoles in the sequence in the Tutorial2.madx file and run the complete file.\n",
    "    \n",
    "   Insert the corresponding lines into the sequence block, following the format: **b1: MB, at=??;**\n",
    "    \n",
    "2. Compute the required bending angle for the dipoles considering a ring with 736 dipoles with equal bending angles (HINT: $2\\pi=N\\theta$). \n",
    "    \n",
    "3. Define a proton beam with a total energy, $E_{tot}$, of 7000 GeV. Activate the sequence and change the dipole bending angle to the one computed in question 1. Then, compute the periodic linear optics functions with the twiss command in MAD-X. Do the dipoles (weak focusing) affect the maximum of the $\\beta$-functions? And the dispersion?\n",
    "\n",
    "4. From the phase advance of the FODO cell compute the horizontal and vertical tunes of the machine.\n",
    "    \n",
    "**SOLUTIONS**    \n",
    "    \n",
    "5. Using the MAD-X match block on a single FODO cell, match the tunes of the machine to 46.0 in both planes. Don't forget to power the dipoles!\n",
    "\n",
    "\t\tmatch, sequence = ??;\n",
    "\t\tglobal, q1 = ??;\n",
    "\t\tglobal, q2 = ??;\n",
    "\t\tvary, name = ??, step = 0.00001;\n",
    "\t\tvary, name = ??, step = 0.00001;\n",
    "\t\tlmdif, calls = 50, tolerance = 1e-6;\n",
    "\t\tendmatch;\n",
    "\t\t   \n",
    "6. If we change the beam energy to a total beam energy of 2 GeV, which are the new tunes of the machine? Why?\n",
    "\n",
    "7. Using the chromaticity computed with MAD-X, compute the tunes for particles with $\\Delta p/p = 10^{-3}$ using the following equation:\n",
    "\n",
    "     $\\Delta Q = dq \\times \\frac{\\Delta p}{p}$\n",
    "\n",
    "<p>\n",
    "<div style=\"display: flex; align-items: center;\">\n",
    "\n",
    "<div style=\"flex: 1; padding: 5px; margin-left: -0px;\">\n",
    "\n",
    "- Chromaticity concept in a quadrupole magnet.<p>\n",
    "- Orange and blue lines correspond to off-momentum particles and the green line represents the on-momentum particle. <p>\n",
    "- An spread in the focusing effect of the quadrupole is observed due to the energy spread of the beam. \n",
    "\n",
    "</div>\n",
    "\n",
    "<div style=\"flex: 1;\">\n",
    "    <img src=\"../Figures/Tutorial4_chroma.jpg\" style=\"max-width: 100%;\">\n",
    "</div>\n",
    "    "
   ]
  },
  {
   "cell_type": "markdown",
   "id": "affb5a19-3311-42ac-857a-aef513f46593",
   "metadata": {},
   "source": [
    "# Python libraries "
   ]
  },
  {
   "cell_type": "code",
   "execution_count": 2,
   "id": "6b4f9ad1-1a9f-402f-992b-5fd303fd17a9",
   "metadata": {
    "tags": []
   },
   "outputs": [],
   "source": [
    "#########################################\n",
    "# Python libraries                      #\n",
    "#########################################\n",
    "from matplotlib import pyplot as plt\n",
    "import numpy as np\n",
    "import pandas as pd\n",
    "\n",
    "#########################################\n",
    "# Cpymad library                        #\n",
    "#########################################\n",
    "from cpymad.madx import Madx \n",
    "\n",
    "#########################################\n",
    "# Additional library for plotting       #\n",
    "#########################################\n",
    "import sys\n",
    "sys.path.append('../')\n",
    "import lib_JUAS2025 as lib"
   ]
  },
  {
   "cell_type": "markdown",
   "id": "788b329c-2036-4512-b577-a67216581cb2",
   "metadata": {},
   "source": [
    "#### More on the cpymad library: http://hibtc.github.io/cpymad/getting-started"
   ]
  },
  {
   "cell_type": "markdown",
   "id": "b4514390-ae21-4dfd-be4c-cdb0329fde1a",
   "metadata": {},
   "source": [
    "#### Matplotlib setup:"
   ]
  },
  {
   "cell_type": "code",
   "execution_count": 3,
   "id": "6ceb649b-bd5d-4803-b2bf-917627c3c20e",
   "metadata": {
    "tags": []
   },
   "outputs": [],
   "source": [
    "# some setup for the plotting\n",
    "params = {\n",
    "    \"legend.fontsize\": \"x-large\",\n",
    "    \"figure.figsize\": (15, 5),\n",
    "    \"axes.labelsize\": \"x-large\",\n",
    "    \"axes.titlesize\": \"x-large\",\n",
    "    \"xtick.labelsize\": \"x-large\",\n",
    "    \"ytick.labelsize\": \"x-large\",\n",
    "}\n",
    "plt.rcParams.update(params)"
   ]
  },
  {
   "cell_type": "markdown",
   "id": "a5710068-ee13-42de-940f-ff68a8f5bf51",
   "metadata": {},
   "source": [
    "#### Pandas setup:"
   ]
  },
  {
   "cell_type": "code",
   "execution_count": 4,
   "id": "be6bad1f-b0a6-45de-bce5-5c55bb07303a",
   "metadata": {
    "tags": []
   },
   "outputs": [],
   "source": [
    "# Set display options\n",
    "pd.set_option('display.max_rows', None)  # Show all rows\n",
    "pd.set_option('display.max_columns', None)  # Show all columns\n",
    "pd.set_option('display.width', 1000)  # Set width of the display"
   ]
  },
  {
   "cell_type": "markdown",
   "id": "1ec62152-0799-4db6-93c5-5c864df4c014",
   "metadata": {},
   "source": [
    "# Launching MAD-X"
   ]
  },
  {
   "cell_type": "code",
   "execution_count": 5,
   "id": "e82b302c-9586-4ece-a7a8-5233cb4ebc11",
   "metadata": {
    "tags": []
   },
   "outputs": [
    {
     "name": "stdout",
     "output_type": "stream",
     "text": [
      "\n",
      "  ++++++++++++++++++++++++++++++++++++++++++++\n",
      "  +     MAD-X 5.09.00  (64 bit, Darwin)      +\n",
      "  + Support: mad@cern.ch, http://cern.ch/mad +\n",
      "  + Release   date: 2023.05.05               +\n",
      "  + Execution date: 2025.01.14 14:12:52      +\n",
      "  ++++++++++++++++++++++++++++++++++++++++++++\n"
     ]
    }
   ],
   "source": [
    "# madx = Madx(stdout=True)\n",
    "madx = Madx()"
   ]
  },
  {
   "cell_type": "markdown",
   "id": "6782c980-c6d9-4612-9f7d-db0966395506",
   "metadata": {},
   "source": [
    "# Question 1"
   ]
  },
  {
   "cell_type": "markdown",
   "id": "75be64ef-cb4d-4fce-b38c-8b29aa849df6",
   "metadata": {},
   "source": [
    "#### **Install the dipoles following in the sequence in the Tutorial2.madx file, then execute the complete file.**"
   ]
  },
  {
   "cell_type": "code",
   "execution_count": null,
   "id": "0e67c82b-dcff-41a0-8bff-4c1df14c11a1",
   "metadata": {},
   "outputs": [],
   "source": [
    "#madx.call('Tutorial2.madx')"
   ]
  },
  {
   "cell_type": "code",
   "execution_count": null,
   "id": "f58c5d27-63aa-4be9-b6c0-6c1daa195e37",
   "metadata": {},
   "outputs": [],
   "source": []
  },
  {
   "cell_type": "markdown",
   "id": "8ed12fec-21c9-4f87-8689-0c3a45e01c24",
   "metadata": {},
   "source": [
    "# Question 2"
   ]
  },
  {
   "cell_type": "markdown",
   "id": "d939d6a6",
   "metadata": {},
   "source": [
    "#### **Compute the required bending angle for the dipoles considering a ring with 736 dipoles with equal bending angles (HINT: $2\\pi=N\\theta$).**\n",
    "\n",
    "\n"
   ]
  },
  {
   "cell_type": "markdown",
   "id": "2d3754f0",
   "metadata": {},
   "source": [
    "#### For a circular orbit:\n",
    "\n",
    "#### $2*\\pi=N\\theta$"
   ]
  },
  {
   "cell_type": "code",
   "execution_count": null,
   "id": "930bc81d-5749-4e6b-84b4-4d87fb479c44",
   "metadata": {},
   "outputs": [],
   "source": []
  },
  {
   "cell_type": "markdown",
   "id": "5a2b81b0-3548-4056-ac72-f41caa5e2f0f",
   "metadata": {},
   "source": [
    "# Question 3"
   ]
  },
  {
   "cell_type": "markdown",
   "id": "0e959b56-93c6-44c8-a442-fcd86d7fadc9",
   "metadata": {},
   "source": [
    "#### **Define a proton beam with a total energy, $E_{tot}$, of 7000 GeV. Activate the sequence and change the dipole bending angle to the one computed in question 1. Then, compute the periodic linear optics functions with the twiss command in MAD-X. Do the dipoles (weak focusing) affect the maximum of the $\\beta$-functions? And the dispersion?**"
   ]
  },
  {
   "cell_type": "code",
   "execution_count": 6,
   "id": "1c867ffc-12e7-467e-a25a-2ab4e42517e7",
   "metadata": {
    "tags": []
   },
   "outputs": [],
   "source": [
    "myString='''\n",
    "beam, particle=proton, energy=??;\n",
    "use, sequence=myCell;\n",
    "twiss;\n",
    "'''"
   ]
  },
  {
   "cell_type": "code",
   "execution_count": 7,
   "id": "a9379a55-9f0b-47fb-b196-e6b75678cd9f",
   "metadata": {
    "tags": []
   },
   "outputs": [],
   "source": [
    "#madx.input(myString)"
   ]
  },
  {
   "cell_type": "code",
   "execution_count": 9,
   "id": "7a576653-b628-4ef2-8c95-46b1a1c14b6a",
   "metadata": {
    "tags": []
   },
   "outputs": [],
   "source": []
  },
  {
   "cell_type": "markdown",
   "id": "d783b2b8-08aa-485b-bf32-2c2251dd91a9",
   "metadata": {},
   "source": [
    "#### Saving the content of the TWISS and SUMM tables in two panda dataframes named as first_twiss_with_dipoles and first_summary_with_dipoles"
   ]
  },
  {
   "cell_type": "code",
   "execution_count": 10,
   "id": "403e2bca",
   "metadata": {
    "tags": []
   },
   "outputs": [],
   "source": [
    "#first_twiss_with_dipoles=madx.table.twiss.dframe()\n",
    "#first_summary_with_dipoles=madx.table.summ.dframe()"
   ]
  },
  {
   "cell_type": "markdown",
   "id": "fa64ca53-1f2e-4276-91cf-e3d6ca31c343",
   "metadata": {},
   "source": [
    "#### Selecting the desired columns:"
   ]
  },
  {
   "cell_type": "code",
   "execution_count": 10,
   "id": "41ac32c5",
   "metadata": {
    "tags": []
   },
   "outputs": [],
   "source": [
    "#first_twiss_with_dipoles[['name', 'keyword', 's','x','y','px','py','betx', 'alfx', 'mux','bety', 'alfy', 'muy','dx','dy','dpx','dpy',]]"
   ]
  },
  {
   "cell_type": "code",
   "execution_count": null,
   "id": "98e17547-352c-40da-b1e5-d447b4f0e726",
   "metadata": {},
   "outputs": [],
   "source": []
  },
  {
   "cell_type": "code",
   "execution_count": null,
   "id": "f631b192-5165-4589-8480-ec051a733427",
   "metadata": {},
   "outputs": [],
   "source": []
  },
  {
   "cell_type": "code",
   "execution_count": null,
   "id": "c0db3f2a-b18a-4113-9f59-359bf4982978",
   "metadata": {},
   "outputs": [],
   "source": []
  },
  {
   "cell_type": "markdown",
   "id": "3efeeee8-d31d-4af7-b380-95a19b30eb21",
   "metadata": {},
   "source": [
    "# Question 4"
   ]
  },
  {
   "cell_type": "markdown",
   "id": "82ab5e4c",
   "metadata": {},
   "source": [
    "#### **From the phase advance of the FODO cell compute the horizontal and vertical tunes of the machine.**"
   ]
  },
  {
   "cell_type": "code",
   "execution_count": null,
   "id": "acda3bad-eed2-445f-b340-899ad42869f3",
   "metadata": {},
   "outputs": [],
   "source": []
  },
  {
   "cell_type": "code",
   "execution_count": null,
   "id": "946ac3f7-b0e7-408b-b71b-4b2f007396cf",
   "metadata": {},
   "outputs": [],
   "source": []
  },
  {
   "cell_type": "code",
   "execution_count": null,
   "id": "493c55c5-fbf8-473d-a2ee-0ffb9bf1fd8d",
   "metadata": {},
   "outputs": [],
   "source": []
  },
  {
   "cell_type": "markdown",
   "id": "1ade9665-9ee3-4640-bcc4-46f778937d83",
   "metadata": {},
   "source": [
    "# Question 5"
   ]
  },
  {
   "cell_type": "markdown",
   "id": "c73b1f3e",
   "metadata": {},
   "source": [
    "#### Using the MAD-X match block on a single FODO cell, match the tunes of the machine to 46.0 in both planes. Don't forget to power the dipoles!\n",
    "\n",
    "\t\tmatch, sequence = ??;\n",
    "\t\tglobal, q1 = ??;\n",
    "\t\tglobal, q2 = ??;\n",
    "\t\tvary, name = ??, step = 0.00001;\n",
    "\t\tvary, name = ??, step = 0.00001;\n",
    "\t\tlmdif, calls = 50, tolerance = 1e-6;\n",
    "\t\tendmatch;\n",
    "\n"
   ]
  },
  {
   "cell_type": "markdown",
   "id": "4ca1e330-8b27-4313-bfa1-f04e38bdb65c",
   "metadata": {},
   "source": [
    "#### Firts, we need to compute the tune of a single FODO cell to get a machine tune of 46 in both planes for one FODO cell"
   ]
  },
  {
   "cell_type": "code",
   "execution_count": 21,
   "id": "d4405772",
   "metadata": {
    "tags": []
   },
   "outputs": [],
   "source": []
  },
  {
   "cell_type": "code",
   "execution_count": null,
   "id": "fdab1947",
   "metadata": {
    "tags": []
   },
   "outputs": [],
   "source": []
  },
  {
   "cell_type": "code",
   "execution_count": 11,
   "id": "40256b71-fe42-4c1b-a9b9-48bbc52e883f",
   "metadata": {
    "tags": []
   },
   "outputs": [],
   "source": [
    "myString='''\n",
    "MATCH, SEQUENCE=myCell;\n",
    "GLOBAL, Q1=??;//H-tune\n",
    "GLOBAL, Q2=??;//V-tune\n",
    "VARY, NAME = ??, STEP=0.00001;\n",
    "VARY, NAME = ??, STEP=0.00001;\n",
    "LMDIF, CALLS=50, TOLERANCE=1e-6;//method adopted\n",
    "ENDMATCH;\n",
    "\n",
    "twiss;\n",
    "\n",
    "'''"
   ]
  },
  {
   "cell_type": "code",
   "execution_count": null,
   "id": "d407c500-3ba1-4e15-bb7c-f905e9ba01f7",
   "metadata": {},
   "outputs": [],
   "source": [
    "#madx.input(myString)"
   ]
  },
  {
   "cell_type": "code",
   "execution_count": null,
   "id": "43cea3bb-8325-44c1-9773-ff8f033be925",
   "metadata": {},
   "outputs": [],
   "source": []
  },
  {
   "cell_type": "code",
   "execution_count": null,
   "id": "339a9575-309b-4f02-bd73-71409aaad84b",
   "metadata": {},
   "outputs": [],
   "source": []
  },
  {
   "cell_type": "code",
   "execution_count": null,
   "id": "90836b70-5f6d-444e-89a4-e2c58bfa0d99",
   "metadata": {},
   "outputs": [],
   "source": []
  },
  {
   "cell_type": "markdown",
   "id": "c5510411-4dc3-45ac-9457-0a77f46852ce",
   "metadata": {
    "tags": []
   },
   "source": [
    "# Question 6"
   ]
  },
  {
   "cell_type": "markdown",
   "id": "52468e34",
   "metadata": {},
   "source": [
    "####  **If we change the beam energy to a total beam energy of 2 GeV, which are the new tunes of the machine? Why?**"
   ]
  },
  {
   "cell_type": "code",
   "execution_count": 12,
   "id": "5bc0d64b-b4c4-48f6-adf9-13a1bc25275a",
   "metadata": {
    "tags": []
   },
   "outputs": [],
   "source": [
    "#madx.beam.energy=2\n",
    "#madx.beam.energy"
   ]
  },
  {
   "cell_type": "code",
   "execution_count": 13,
   "id": "1509a06e-61e4-4504-9cc2-988718ca991d",
   "metadata": {
    "tags": []
   },
   "outputs": [],
   "source": [
    "#twiss=madx.twiss(sequence=\"myCell\")"
   ]
  },
  {
   "cell_type": "code",
   "execution_count": 29,
   "id": "e41ab58a-752f-42ff-a9a2-5b52a756ded6",
   "metadata": {
    "tags": []
   },
   "outputs": [],
   "source": [
    "#myString='''\n",
    "#twiss;\n",
    "#'''\n",
    "#madx.input(myString)"
   ]
  },
  {
   "cell_type": "code",
   "execution_count": 30,
   "id": "d9252c87-29d7-49c3-afb8-192f49fb4b68",
   "metadata": {
    "tags": []
   },
   "outputs": [],
   "source": []
  },
  {
   "cell_type": "markdown",
   "id": "d16c077a-dda3-442b-ad88-ee83043ae8b9",
   "metadata": {
    "tags": []
   },
   "source": [
    "# Question 7"
   ]
  },
  {
   "cell_type": "markdown",
   "id": "030f5e42",
   "metadata": {},
   "source": [
    "#### **Using the chromaticity computed with MAD-X for the 7000 GeV proton beam, compute the tunes for particles with $\\Delta p/p = 10^{-3}$ using the following equation:**\n",
    "\n",
    "$\\Delta Q = dq \\times \\frac{\\Delta p}{p}$\n",
    "\n",
    "<div style=\"flex: 1;\">\n",
    "    <img src=\"../Figures/Tutorial4_chroma.jpg\" style=\"max-width: 50%;\">\n",
    "</div>"
   ]
  },
  {
   "cell_type": "code",
   "execution_count": null,
   "id": "620f7fa7-3382-4f54-9f61-f114a3d5d598",
   "metadata": {
    "tags": []
   },
   "outputs": [],
   "source": []
  },
  {
   "cell_type": "code",
   "execution_count": null,
   "id": "260cd367-0cee-4989-ad2f-abee8ea45a6b",
   "metadata": {},
   "outputs": [],
   "source": []
  }
 ],
 "metadata": {
  "kernelspec": {
   "display_name": "Python 3 (ipykernel)",
   "language": "python",
   "name": "python3"
  },
  "language_info": {
   "codemirror_mode": {
    "name": "ipython",
    "version": 3
   },
   "file_extension": ".py",
   "mimetype": "text/x-python",
   "name": "python",
   "nbconvert_exporter": "python",
   "pygments_lexer": "ipython3",
   "version": "3.11.5"
  }
 },
 "nbformat": 4,
 "nbformat_minor": 5
}
